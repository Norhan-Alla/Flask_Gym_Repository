{
  "nbformat": 4,
  "nbformat_minor": 0,
  "metadata": {
    "colab": {
      "provenance": []
    },
    "kernelspec": {
      "name": "python3",
      "display_name": "Python 3"
    },
    "language_info": {
      "name": "python"
    }
  },
  "cells": [
    {
      "cell_type": "code",
      "execution_count": 1,
      "metadata": {
        "colab": {
          "base_uri": "https://localhost:8080/"
        },
        "id": "SS7tqHHHHjwE",
        "outputId": "942999e0-732d-466e-a43b-68dba56cffac"
      },
      "outputs": [
        {
          "output_type": "stream",
          "name": "stdout",
          "text": [
            "Mounted at /content/drive\n"
          ]
        }
      ],
      "source": [
        "from google.colab import drive\n",
        "drive.mount('/content/drive')"
      ]
    },
    {
      "cell_type": "code",
      "source": [
        "import pandas as pd\n",
        "import numpy as np\n",
        "import joblib\n",
        "from sklearn.preprocessing import LabelEncoder\n",
        "from sklearn.ensemble import RandomForestClassifier, RandomForestRegressor\n",
        "from sklearn.preprocessing import StandardScaler\n",
        "from scipy.optimize import minimize\n",
        "\n",
        "# Load saved models and encoders\n",
        "clf = joblib.load('/content/drive/MyDrive/modelsaved/fitness_goal_classifier.pkl')\n",
        "regressor = joblib.load('/content/drive/MyDrive/modelsaved/calories_burned_regressor.pkl')\n",
        "scaler = joblib.load('/content/drive/MyDrive/modelsaved/scaler.pkl')\n",
        "label_encoders = joblib.load('/content/drive/MyDrive/modelsaved/label_encoders.pkl')\n",
        "\n",
        "# Features for classification and regression\n",
        "level1_features = ['Age', 'Gender', 'BMI', 'Workout_Frequency (days/week)',\n",
        "                   'Experience_Level', 'Workout_Type', 'Fat_Percentage']\n",
        "level2_features = ['Age', 'Gender', 'Weight (kg)', 'Height (m)', 'Max_BPM', 'Avg_BPM', 'Resting_BPM',\n",
        "                   'Session_Duration (hours)', 'Workout_Type', 'Fat_Percentage', 'BMI', 'Predicted_Fitness_Goal']\n",
        "\n",
        "# Define optimization function for Level 3 with dynamic adjustments\n",
        "def objective(workout_plan, alpha=0.6, beta=0.3, gamma=0.1, user_experience=1, predicted_calories=1, fitness_goal=None):\n",
        "    session_duration, target_bpm, fatigue_risk = workout_plan\n",
        "    adjusted_alpha = alpha * user_experience\n",
        "    adjusted_beta = beta * (target_bpm / 200)\n",
        "    adjusted_gamma = gamma * (1 + fatigue_risk)\n",
        "\n",
        "    # Adjust goal alignment based on predicted fitness goal\n",
        "    goal_alignment = 0\n",
        "    if fitness_goal == 'Weight_Loss':\n",
        "        goal_alignment = 1  # prioritize higher calories burnt for weight loss\n",
        "    elif fitness_goal == 'Muscle_Gain':\n",
        "        goal_alignment = 0.8  # slightly less focus on calories burnt\n",
        "    else:\n",
        "        goal_alignment = 0.9  # balance for endurance\n",
        "\n",
        "    # Add penalty for long session durations if user has low experience\n",
        "    penalty_duration = 0 if session_duration <= 1 + user_experience * 0.2 else session_duration * 0.5\n",
        "\n",
        "    return -(adjusted_alpha * predicted_calories * goal_alignment - adjusted_beta - adjusted_gamma + penalty_duration)\n",
        "\n",
        "def constraint_duration(workout_plan, user_experience):\n",
        "    session_duration = workout_plan[0]\n",
        "    max_duration = 0.5 + user_experience * 0.3\n",
        "    return max_duration - session_duration\n",
        "\n",
        "def constraint_bpm(workout_plan, max_bpm, age):\n",
        "    target_bpm = workout_plan[1]\n",
        "    safe_bpm = max_bpm - (0.5 * (age - 30))\n",
        "    return safe_bpm - target_bpm\n",
        "\n",
        "def get_initial_plan(user_experience):\n",
        "    return [np.random.uniform(0.5, 2.0), np.random.uniform(100, 180), np.random.uniform(0.0, 1.0)]\n",
        "\n",
        "bounds = [(0.5, 2.0), (100, 200), (0.0, 1.0)]\n",
        "\n",
        "# Function to calculate the optimal plan based on user input\n",
        "def calculate_optimal_plan(user_experience=1, max_bpm=200, predicted_calories=1, age=30, fitness_goal=None):\n",
        "    initial_plan = get_initial_plan(user_experience)\n",
        "    result = minimize(objective, initial_plan, bounds=bounds,\n",
        "                      constraints=[\n",
        "                          {\"type\": \"ineq\", \"fun\": lambda workout_plan: constraint_duration(workout_plan, user_experience)},\n",
        "                          {\"type\": \"ineq\", \"fun\": lambda workout_plan: constraint_bpm(workout_plan, max_bpm, age)}\n",
        "                      ], args=(0.6, 0.3, 0.1, user_experience, predicted_calories, fitness_goal))\n",
        "    return result.x\n",
        "\n",
        "# Function to calculate water intake\n",
        "def calculate_water_intake(weight, session_duration):\n",
        "    base_water = 0.03 * weight\n",
        "    extra_water = session_duration * 0.5\n",
        "    return base_water + extra_water\n",
        "\n",
        "# Function to make predictions based on user input\n",
        "def interactive_prediction():\n",
        "    print(\"Please enter the following details:\")\n",
        "\n",
        "    # Taking user input\n",
        "    age = int(input(\"Age: \"))\n",
        "    gender = input(\"Gender (Male/Female): \").strip()\n",
        "    bmi = float(input(\"BMI: \"))\n",
        "    workout_frequency = int(input(\"Workout Frequency (days/week): \"))\n",
        "    experience_level = int(input(\"Experience Level (1-5): \"))\n",
        "    workout_type = input(\"Workout Type (Cardio/Strength/Other): \").strip()\n",
        "    fat_percentage = float(input(\"Fat Percentage: \"))\n",
        "    weight = float(input(\"Weight (kg): \"))\n",
        "    height = float(input(\"Height (m): \"))\n",
        "    max_bpm = int(input(\"Max BPM: \"))\n",
        "    avg_bpm = int(input(\"Average BPM: \"))\n",
        "    resting_bpm = int(input(\"Resting BPM: \"))\n",
        "    session_duration = float(input(\"Session Duration (hours): \"))\n",
        "\n",
        "    # Encoding gender and workout type\n",
        "    gender_encoded = label_encoders['Gender'].transform([gender])[0]\n",
        "    workout_type_encoded = label_encoders['Workout_Type'].transform([workout_type])[0]\n",
        "\n",
        "    # Level 1 Prediction (Fitness Goal)\n",
        "    level1_input = pd.DataFrame([[age, gender_encoded, bmi, workout_frequency,\n",
        "                                  experience_level, workout_type_encoded, fat_percentage]],\n",
        "                                columns=level1_features)\n",
        "    fitness_goal_pred = clf.predict(level1_input)[0]\n",
        "    fitness_goal_label = label_encoders['Fitness_Goal'].inverse_transform([fitness_goal_pred])[0]\n",
        "\n",
        "    # Level 2 Prediction (Calories Burned)\n",
        "    level2_input = scaler.transform([[age, gender_encoded, weight, height, max_bpm, avg_bpm,\n",
        "                                       resting_bpm, session_duration, workout_type_encoded,\n",
        "                                       fat_percentage, bmi, fitness_goal_pred ]])\n",
        "    calories_burned_pred = regressor.predict(level2_input)[0]\n",
        "\n",
        "    # Level 3 Optimization (Workout Plan)\n",
        "    optimal_plan = calculate_optimal_plan(user_experience=experience_level, max_bpm=max_bpm, predicted_calories=calories_burned_pred, age=age, fitness_goal=fitness_goal_label)\n",
        "    optimal_bpm = optimal_plan[1]\n",
        "    if optimal_bpm > 160:\n",
        "        optimal_workout_type = 'HIIT'\n",
        "    elif optimal_bpm > 140:\n",
        "        optimal_workout_type = 'Cardio'\n",
        "    elif optimal_bpm > 120:\n",
        "        optimal_workout_type = 'Strength'\n",
        "    else:\n",
        "        optimal_workout_type = 'Endurance'\n",
        "\n",
        "    recommended_water = calculate_water_intake(weight, optimal_plan[0])\n",
        "\n",
        "    # Output results\n",
        "    print(\"\\nPredicted Fitness Goal (Level 1):\", fitness_goal_label)\n",
        "    print(\"Predicted Calories Burned (Level 2): {:.2f} kcal\".format(calories_burned_pred))\n",
        "    print(\"\\nOptimal Workout Plan (Level 3):\")\n",
        "    print(\"Session Duration: {:.2f} hours\".format(optimal_plan[0]))\n",
        "    print(\"Target BPM: {:.1f}\".format(optimal_plan[1]))\n",
        "    print(\"Fatigue Risk: {:.2f}\".format(optimal_plan[2]))\n",
        "    print(\"Recommended Workout Type:\", optimal_workout_type)\n",
        "    print(\"Recommended Water Intake: {:.2f} liters\".format(recommended_water))\n",
        "\n",
        "# Run interactive prediction\n",
        "interactive_prediction()\n"
      ],
      "metadata": {
        "colab": {
          "base_uri": "https://localhost:8080/"
        },
        "id": "bqb-AdhSoTWb",
        "outputId": "f5ecbf33-247e-46c1-ee7a-9bc306fb9996"
      },
      "execution_count": 22,
      "outputs": [
        {
          "output_type": "stream",
          "name": "stdout",
          "text": [
            "Please enter the following details:\n",
            "Age: 70\n",
            "Gender (Male/Female): Male\n",
            "BMI: 33.4\n",
            "Workout Frequency (days/week): 1\n",
            "Experience Level (1-5): 1\n",
            "Workout Type (Cardio/Strength/Other): Strength\n",
            "Fat Percentage: 20.4\n",
            "Weight (kg): 66\n",
            "Height (m): 1.65\n",
            "Max BPM: 130\n",
            "Average BPM: 90\n",
            "Resting BPM: 40\n",
            "Session Duration (hours): 1.66\n",
            "\n",
            "Predicted Fitness Goal (Level 1): Muscle_Gain\n",
            "Predicted Calories Burned (Level 2): 1023.66 kcal\n",
            "\n",
            "Optimal Workout Plan (Level 3):\n",
            "Session Duration: 0.54 hours\n",
            "Target BPM: 100.0\n",
            "Fatigue Risk: 0.00\n",
            "Recommended Workout Type: Endurance\n",
            "Recommended Water Intake: 2.25 liters\n"
          ]
        },
        {
          "output_type": "stream",
          "name": "stderr",
          "text": [
            "/usr/local/lib/python3.10/dist-packages/sklearn/utils/validation.py:2739: UserWarning: X does not have valid feature names, but StandardScaler was fitted with feature names\n",
            "  warnings.warn(\n"
          ]
        }
      ]
    }
  ]
}