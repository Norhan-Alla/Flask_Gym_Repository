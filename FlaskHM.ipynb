{
  "nbformat": 4,
  "nbformat_minor": 0,
  "metadata": {
    "colab": {
      "provenance": []
    },
    "kernelspec": {
      "name": "python3",
      "display_name": "Python 3"
    },
    "language_info": {
      "name": "python"
    }
  },
  "cells": [
    {
      "cell_type": "code",
      "source": [
        "from google.colab import drive\n",
        "drive.mount('/content/drive')\n"
      ],
      "metadata": {
        "colab": {
          "base_uri": "https://localhost:8080/"
        },
        "id": "yjM7vrrtizgR",
        "outputId": "16256fcd-5325-48b1-9f6e-9f145656f797"
      },
      "execution_count": null,
      "outputs": [
        {
          "output_type": "stream",
          "name": "stdout",
          "text": [
            "Mounted at /content/drive\n"
          ]
        }
      ]
    },
    {
      "cell_type": "code",
      "execution_count": null,
      "metadata": {
        "colab": {
          "base_uri": "https://localhost:8080/"
        },
        "id": "6TKBF1-rix-X",
        "outputId": "7e85bc7a-2d0a-4c39-c50f-a320c961c909"
      },
      "outputs": [
        {
          "output_type": "stream",
          "name": "stdout",
          "text": [
            "Level 1 Training Accuracy: 0.9370179948586118\n",
            "Level 1 Testing Accuracy: 0.9179487179487179\n",
            "Level 1 Cross-Validation Accuracy (mean): 0.9105617504733854\n",
            "Level 2 Training R^2: 0.9964858218046424\n",
            "Level 2 Testing R^2: 0.9728080212914191\n",
            "Level 2 Training MSE: 252.84283800610535\n",
            "Level 2 Testing MSE: 2268.4915209935903\n",
            "Level 2 Training MAE: 11.901571336760924\n",
            "Level 2 Testing MAE: 35.73239743589743\n",
            "Optimal Workout Plan:\n",
            " Session Duration: 2.00 hours,  Target BPM: 100.0,  Fatigue Risk: 0.00\n",
            "Recommended Workout Type: Endurance\n"
          ]
        }
      ],
      "source": [
        "from flask import Flask, request, jsonify\n",
        "from model import load_data, encode_data, calculate_optimal_plan, calculate_water_intake\n",
        "\n",
        "app = Flask(__name__)\n",
        "\n",
        "# Load and prepare the data\n",
        "data = load_data()\n",
        "data, label_encoders = encode_data(data)\n",
        "\n",
        "# Load the pre-trained models\n",
        "clf = joblib.load('fitness_goal_classifier.pkl')\n",
        "regressor = joblib.load('calories_burned_regressor.pkl')\n",
        "scaler = joblib.load('scaler.pkl')\n",
        "\n",
        "@app.route('/predict', methods=['POST'])\n",
        "def predict():\n",
        "    data = request.get_json()\n",
        "\n",
        "    # Step 1: Prepare inputs for Level 1 Prediction (Fitness Goal)\n",
        "    gender_encoded = label_encoders['Gender'].transform([data['gender']])[0]\n",
        "    workout_type_encoded = label_encoders['Workout_Type'].transform([data['workout_type']])[0]\n",
        "    level1_input = [[data['age'], gender_encoded, data['bmi'], data['workout_frequency'],\n",
        "                     data['experience_level'], workout_type_encoded, data['fat_percentage']]]\n",
        "\n",
        "    # Level 1 Prediction (Fitness Goal)\n",
        "    fitness_goal_pred = clf.predict(level1_input)[0]\n",
        "    fitness_goal_label = label_encoders['Fitness_Goal'].inverse_transform([fitness_goal_pred])[0]\n",
        "\n",
        "    # Step 2: Add the predicted fitness goal to features for level 2 (Calories Burned)\n",
        "    level2_input = scaler.transform([[data['age'], gender_encoded, data['weight'], data['height'], data['max_bpm'],\n",
        "                                       data['avg_bpm'], data['resting_bpm'], data['session_duration'],\n",
        "                                       workout_type_encoded, data['fat_percentage'], data['bmi'], fitness_goal_pred]])\n",
        "\n",
        "    # Level 2 Prediction (Calories Burned)\n",
        "    calories_burned_pred = regressor.predict(level2_input)[0]\n",
        "\n",
        "    # Step 3: Use the results from Level 1 and Level 2 for Level 3 Optimization (Workout Plan)\n",
        "    optimal_plan = calculate_optimal_plan(user_experience=data['experience_level'], max_bpm=data['max_bpm'],\n",
        "                                          predicted_calories=calories_burned_pred, age=data['age'], fitness_goal=fitness_goal_label)\n",
        "    optimal_bpm = optimal_plan[1]\n",
        "\n",
        "    if optimal_bpm > 160:\n",
        "        optimal_workout_type = 'HIIT'\n",
        "    elif optimal_bpm > 140:\n",
        "        optimal_workout_type = 'Cardio'\n",
        "    elif optimal_bpm > 120:\n",
        "        optimal_workout_type = 'Strength'\n",
        "    else:\n",
        "        optimal_workout_type = 'Endurance'\n",
        "\n",
        "    # Calculate recommended water intake\n",
        "    recommended_water = calculate_water_intake(data['weight'], optimal_plan[0])\n",
        "\n",
        "    # Return the results\n",
        "    return jsonify({\n",
        "        \"fitness_goal\": fitness_goal_label,\n",
        "        \"calories_burned\": calories_burned_pred,\n",
        "        \"optimal_plan\": optimal_plan.tolist(),\n",
        "        \"optimal_workout_type\": optimal_workout_type,\n",
        "        \"recommended_water_intake\": recommended_water\n",
        "    })\n",
        "\n",
        "if __name__ == '__main__':\n",
        "    app.run(debug=True)"
      ]
    }
  ]
}